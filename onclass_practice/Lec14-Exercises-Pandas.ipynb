{
 "cells": [
  {
   "cell_type": "markdown",
   "id": "e33ac3cb-e6db-427a-b48f-51f757664903",
   "metadata": {},
   "source": [
    "# Hands-on DS: Pandas\n",
    "\n",
    "Hands-on Exercises for Lec. 13 of UFUG1601-ICS at HKUST-GZ\\\n",
    "Created by Guoming Tang\\\n",
    "Latest update: Oct. 29, 2024\n",
    "\n",
    "---\n",
    "\n"
   ]
  },
  {
   "cell_type": "code",
   "execution_count": null,
   "id": "344ceaea",
   "metadata": {},
   "outputs": [
    {
     "name": "stderr",
     "output_type": "stream",
     "text": [
      "ERROR: unknown command \"panda\"\n",
      "\n"
     ]
    }
   ],
   "source": []
  },
  {
   "cell_type": "markdown",
   "id": "17b41e0b-ed47-4659-83bf-656aca510ef3",
   "metadata": {},
   "source": [
    "## Module 1: Data Indexing and Selection\n",
    "\n",
    "### Sample Code\n"
   ]
  },
  {
   "cell_type": "code",
   "execution_count": 1,
   "id": "5edcbd8e-e734-4d7e-ad80-df909aa4f03b",
   "metadata": {},
   "outputs": [
    {
     "name": "stdout",
     "output_type": "stream",
     "text": [
      "January DataFrame:\n",
      "   Salesperson  Sales\n",
      "0       Alice   5000\n",
      "1         Bob   3000\n",
      "2     Charlie   4000\n",
      "\n",
      "Sales for Alice:\n",
      "   Salesperson  Sales\n",
      "0       Alice   5000\n",
      "\n",
      "Sales for Bob:\n",
      "   Salesperson  Sales\n",
      "1         Bob   3000\n",
      "\n",
      "First row of January sales:\n",
      " Salesperson    Alice\n",
      "Sales           5000\n",
      "Name: 0, dtype: object\n"
     ]
    }
   ],
   "source": [
    "import pandas as pd\n",
    "\n",
    "# Sample sales data for January\n",
    "data_january = {\n",
    "    'Salesperson': ['Alice', 'Bob', 'Charlie'],\n",
    "    'Sales': [5000, 3000, 4000]\n",
    "}\n",
    "df_january = pd.DataFrame(data_january)\n",
    "print(\"January DataFrame:\\n\", df_january)\n",
    "\n",
    "# Indexing and selection\n",
    "sales_alice = df_january[df_january['Salesperson'] == 'Alice']\n",
    "print(\"\\nSales for Alice:\\n\", sales_alice)\n",
    "\n",
    "# Using loc to select by label\n",
    "sales_bob = df_january.loc[df_january['Salesperson'] == 'Bob']\n",
    "print(\"\\nSales for Bob:\\n\", sales_bob)\n",
    "\n",
    "# Using iloc to select by index position\n",
    "first_row = df_january.iloc[0]\n",
    "print(\"\\nFirst row of January sales:\\n\", first_row)"
   ]
  },
  {
   "cell_type": "markdown",
   "id": "0cb331b8-a1ec-4f5b-a984-b5f52fb1a524",
   "metadata": {},
   "source": [
    "### Exercise-1\n",
    "\n",
    "- Create a DataFrame for February sales data with the same salespeople.\n",
    "- Select the data for \"Charlie\" using both `loc` and `iloc` indexing.\n",
    "- Display only the sales column for February using column indexing."
   ]
  },
  {
   "cell_type": "code",
   "execution_count": 2,
   "id": "d6a4c6a7",
   "metadata": {},
   "outputs": [
    {
     "name": "stdout",
     "output_type": "stream",
     "text": [
      "loc Alice:\n",
      "   Salesperson  Sales\n",
      "0       Alice  50000\n",
      "\n",
      "iloc Alice:\n",
      " 50000\n",
      "\n",
      "the sales:\n",
      " 0    50000\n",
      "1      300\n",
      "2       40\n",
      "Name: Sales, dtype: int64\n"
     ]
    }
   ],
   "source": [
    "data_February = {\n",
    "    'Salesperson': ['Alice', 'Bob', 'Charlie'],\n",
    "    'Sales': [50000, 300, 40]\n",
    "}\n",
    "df_February = pd.DataFrame(data_February)\n",
    "print(\"loc Alice:\\n\",df_February.loc[df_February['Salesperson'] == 'Alice'])\n",
    "print(\"\\niloc Alice:\\n\",df_February['Sales'].iloc[0])\n",
    "print(\"\\nthe sales:\\n\",df_February['Sales'])"
   ]
  },
  {
   "cell_type": "markdown",
   "id": "cf25d7ee-537e-4281-b2e8-46e3b843198b",
   "metadata": {},
   "source": [
    "## Module 2: Concatenate and Merge\n",
    "\n",
    "### Sample Code"
   ]
  },
  {
   "cell_type": "code",
   "execution_count": 3,
   "id": "cf7495ff-c5d1-4fb7-94af-64883e7f1207",
   "metadata": {},
   "outputs": [
    {
     "name": "stdout",
     "output_type": "stream",
     "text": [
      "Combined DataFrame:\n",
      "            Salesperson  Sales\n",
      "January  0       Alice   5000\n",
      "         1         Bob   3000\n",
      "         2     Charlie   4000\n",
      "February 0       Alice   6000\n",
      "         1         Bob   3500\n",
      "         2     Charlie   4200\n",
      "\n",
      "Merged February and March DataFrame:\n",
      "   Salesperson  Sales_February  Sales_March\n",
      "0       Alice            6000         7000\n",
      "1         Bob            3500         3700\n",
      "2     Charlie            4200         4300\n"
     ]
    }
   ],
   "source": [
    "# Sample sales data for February\n",
    "data_february = {\n",
    "    'Salesperson': ['Alice', 'Bob', 'Charlie'],\n",
    "    'Sales': [6000, 3500, 4200]\n",
    "}\n",
    "df_february = pd.DataFrame(data_february)\n",
    "\n",
    "# Concatenate January and February data\n",
    "df_combined = pd.concat([df_january, df_february], keys=['January', 'February'])\n",
    "print(\"Combined DataFrame:\\n\", df_combined)\n",
    "\n",
    "# Merging with a new DataFrame for March\n",
    "data_march = {\n",
    "    'Salesperson': ['Alice', 'Bob', 'Charlie'],\n",
    "    'Sales': [7000, 3700, 4300]\n",
    "}\n",
    "df_march = pd.DataFrame(data_march)\n",
    "\n",
    "df_merged = pd.merge(df_february, df_march, on='Salesperson', suffixes=('_February', '_March'))\n",
    "print(\"\\nMerged February and March DataFrame:\\n\", df_merged)\n"
   ]
  },
  {
   "cell_type": "markdown",
   "id": "cbd91341-d96e-4f68-b38a-f79398780853",
   "metadata": {},
   "source": [
    "### Exercise-2\n",
    "- Create a DataFrame for April with sales data for the same salespeople.\n",
    "- Concatenate the January, February, and March DataFrames with the new April DataFrame, preserving monthly labels.\n",
    "- Merge February and April data by \"Salesperson\" and add suffixes \"_Feb\" and \"_Apr\" to indicate months."
   ]
  },
  {
   "cell_type": "code",
   "execution_count": 4,
   "id": "72535e10",
   "metadata": {},
   "outputs": [
    {
     "name": "stdout",
     "output_type": "stream",
     "text": [
      "\n",
      "Combined DataFrame:\n",
      "            Salesperson   Sales\n",
      "January  0       Alice    5000\n",
      "         1         Bob    3000\n",
      "         2     Charlie    4000\n",
      "February 0       Alice    6000\n",
      "         1         Bob    3500\n",
      "         2     Charlie    4200\n",
      "March    0       Alice    7000\n",
      "         1         Bob    3700\n",
      "         2     Charlie    4300\n",
      "April    0       Alice  600000\n",
      "         1         Bob     500\n",
      "         2     Charlie   14200\n",
      "\n",
      "Merged DataFrame:\n",
      "   Salesperson  Sales_February  Sales_April\n",
      "0       Alice            6000       600000\n",
      "1         Bob            3500          500\n",
      "2     Charlie            4200        14200\n"
     ]
    }
   ],
   "source": [
    "data_april = {\n",
    "    'Salesperson': ['Alice', 'Bob', 'Charlie'],\n",
    "    'Sales': [600000, 500, 14200]\n",
    "}\n",
    "df_april = pd.DataFrame(data_april)\n",
    "df_combined_all = pd.concat([df_january,df_february,df_march,df_april],keys=['January','February','March','April'])\n",
    "print(\"\\nCombined DataFrame:\\n\", df_combined_all)\n",
    "df_merged_all=pd.merge(df_february,df_april,on='Salesperson',suffixes=('_February','_April'))\n",
    "print(\"\\nMerged DataFrame:\\n\",df_merged_all)"
   ]
  },
  {
   "cell_type": "markdown",
   "id": "680b3cdf-41d5-4625-bfd9-29fc39b8b103",
   "metadata": {},
   "source": [
    "## Module 3: Groupby Operations\n",
    "\n",
    "### Sample Code"
   ]
  },
  {
   "cell_type": "code",
   "execution_count": 5,
   "id": "1f0602ce-9fb0-4307-9c10-a3ffa5ececf8",
   "metadata": {},
   "outputs": [
    {
     "name": "stdout",
     "output_type": "stream",
     "text": [
      "\n",
      "Combined DataFrame:\n",
      "       Month Salesperson  Sales\n",
      "0   January       Alice   5000\n",
      "1   January         Bob   3000\n",
      "2   January     Charlie   4000\n",
      "3  February       Alice   6000\n",
      "4  February         Bob   3500\n",
      "5  February     Charlie   4200\n",
      "6     March       Alice   7000\n",
      "7     March         Bob   3700\n",
      "8     March     Charlie   4300\n",
      "Total sales by salesperson:\n",
      " Salesperson\n",
      "Alice      18000\n",
      "Bob        10200\n",
      "Charlie    12500\n",
      "Name: Sales, dtype: int64\n",
      "\n",
      "Average sales by salesperson:\n",
      " Salesperson\n",
      "Alice      6000.000000\n",
      "Bob        3400.000000\n",
      "Charlie    4166.666667\n",
      "Name: Sales, dtype: float64\n"
     ]
    }
   ],
   "source": [
    "# Define a dictionary with sales data\n",
    "# 'Month' column represents the month of each sale record\n",
    "# 'Salesperson' column represents the person responsible for each sale\n",
    "# 'Sales' column contains the sales amount for each entry\n",
    "data_combined = {\n",
    "    'Month': ['January', 'January', 'January', 'February', 'February', 'February', \n",
    "              'March', 'March', 'March'],\n",
    "    'Salesperson': ['Alice', 'Bob', 'Charlie'] * 3,\n",
    "    'Sales': [5000, 3000, 4000, 6000, 3500, 4200, 7000, 3700, 4300]\n",
    "}\n",
    "\n",
    "# Create a DataFrame from the sales data\n",
    "df_all = pd.DataFrame(data_combined)\n",
    "print(\"\\nCombined DataFrame:\\n\", df_all)\n",
    "\n",
    "# Calculate the total sales for each salesperson by summing the 'Sales' column\n",
    "total_sales = df_all.groupby('Salesperson')['Sales'].sum()\n",
    "print(\"Total sales by salesperson:\\n\", total_sales)\n",
    "\n",
    "# Calculate the average sales for each salesperson by taking the mean of the 'Sales' column\n",
    "average_sales = df_all.groupby('Salesperson')['Sales'].mean()\n",
    "print(\"\\nAverage sales by salesperson:\\n\", average_sales)\n"
   ]
  },
  {
   "cell_type": "markdown",
   "id": "6e058bf5-f605-455e-bcc7-acd041b56df7",
   "metadata": {},
   "source": [
    "### Exercise-3\n",
    "- Calculate total sales for each salesperson across all four months.\n",
    "- Calculate the average monthly sales for each salesperson.\n",
    "- Identify the salesperson with the highest total sales across the period."
   ]
  },
  {
   "cell_type": "code",
   "execution_count": 15,
   "id": "f1cbf593",
   "metadata": {},
   "outputs": [
    {
     "name": "stdout",
     "output_type": "stream",
     "text": [
      "\n",
      "Combined DataFrame:\n",
      "        Month Salesperson   Sales\n",
      "0    January       Alice    5000\n",
      "1    January         Bob    3000\n",
      "2    January     Charlie    4000\n",
      "3   February       Alice    6000\n",
      "4   February         Bob    3500\n",
      "5   February     Charlie    4200\n",
      "6      March       Alice    7000\n",
      "7      March         Bob    3700\n",
      "8      March     Charlie    4300\n",
      "9      April       Alice  600000\n",
      "10     April         Bob     500\n",
      "11     April     Charlie   14200\n",
      "\n",
      "Total sales by salesperson:\n",
      " Salesperson\n",
      "Alice      618000\n",
      "Bob         10700\n",
      "Charlie     26700\n",
      "Name: Sales, dtype: int64\n",
      "\n",
      "Highest sales:\n",
      " Alice\n"
     ]
    }
   ],
   "source": [
    "data_combined_all = {\n",
    "    'Month': ['January', 'January', 'January', 'February', 'February', 'February', \n",
    "              'March', 'March', 'March','April','April','April'],\n",
    "    'Salesperson': ['Alice', 'Bob', 'Charlie'] * 4,\n",
    "    'Sales': [5000, 3000, 4000, 6000, 3500, 4200, 7000, 3700, 4300, 600000, 500, 14200]\n",
    "}\n",
    "df_all=pd.DataFrame(data_combined_all)\n",
    "print(\"\\nCombined DataFrame:\\n\", df_all)\n",
    "sales_for_each=df_all.groupby('Salesperson')['Sales'].sum()\n",
    "print(\"\\nTotal sales by salesperson:\\n\",sales_for_each)\n",
    "highest=sales_for_each.max()\n",
    "print(\"\\nHighest sales:\\n\",sales_for_each[sales_for_each==highest].index[0])"
   ]
  },
  {
   "cell_type": "markdown",
   "id": "2de9e5f9-3bb8-46a1-a3a5-eb72c8b50475",
   "metadata": {},
   "source": [
    "## Module 4: Pivot Table\n",
    "\n",
    "### Sample Code"
   ]
  },
  {
   "cell_type": "code",
   "execution_count": 23,
   "id": "84d0d501-e22a-4e37-9192-6169ef906277",
   "metadata": {},
   "outputs": [
    {
     "name": "stdout",
     "output_type": "stream",
     "text": [
      "Pivot table of monthly sales per salesperson:\n",
      " Month         April  February  January  March\n",
      "Salesperson                                  \n",
      "Alice        600000      6000     5000   7000\n",
      "Bob             500      3500     3000   3700\n",
      "Charlie       14200      4200     4000   4300\n",
      "\n",
      "Total sales per salesperson:\n",
      " Month         April  February  January  March   Total\n",
      "Salesperson                                          \n",
      "Alice        600000      6000     5000   7000  618000\n",
      "Bob             500      3500     3000   3700   10700\n",
      "Charlie       14200      4200     4000   4300   26700\n",
      "\n",
      "Average sales by salesperson:\n",
      " Salesperson\n",
      "Alice      154500.0\n",
      "Bob          2675.0\n",
      "Charlie      6675.0\n",
      "Name: Sales, dtype: float64\n"
     ]
    }
   ],
   "source": [
    "# Create a pivot table from df_all that summarizes total monthly sales for each salesperson.\n",
    "# 'values' specifies the data to aggregate, 'index' is set to 'Salesperson' to categorize by each salesperson,\n",
    "# 'columns' is set to 'Month' to show sales data for each month, and 'aggfunc' is set to 'sum' to sum up sales.\n",
    "pivot_sales = df_all.pivot_table(values='Sales', index='Salesperson', columns='Month', aggfunc='sum')\n",
    "print(\"Pivot table of monthly sales per salesperson:\\n\", pivot_sales)\n",
    "\n",
    "# Add a new column 'Total' to the pivot table, which calculates the total sales for each salesperson across all months.\n",
    "pivot_sales['Total'] = pivot_sales.sum(axis=1)\n",
    "print(\"\\nTotal sales per salesperson:\\n\", pivot_sales)\n",
    "\n",
    "# Calculate the average sales for each salesperson using the groupby function.\n",
    "# This groups the data by 'Salesperson' and then calculates the mean of 'Sales' for each group.\n",
    "average_sales = df_all.groupby('Salesperson')['Sales'].mean()\n",
    "print(\"\\nAverage sales by salesperson:\\n\", average_sales)\n",
    "\n"
   ]
  },
  {
   "cell_type": "markdown",
   "id": "df448297-d044-472b-b897-e951e8e35bc6",
   "metadata": {},
   "source": [
    "### Exercise-4\n",
    "- Create a pivot table that shows the sales for each month per salesperson.\n",
    "- Add a new column showing the total sales for each salesperson across all months.\n",
    "- Sort the pivot table by total sales in descending order to identify the top salesperson."
   ]
  },
  {
   "cell_type": "code",
   "execution_count": 25,
   "id": "f5e24934",
   "metadata": {},
   "outputs": [
    {
     "name": "stdout",
     "output_type": "stream",
     "text": [
      "\n",
      "Total sales per month:\n",
      " Month          April  February  January  March    Total\n",
      "Salesperson                                            \n",
      "Alice         600000      6000     5000   7000   618000\n",
      "Bob              500      3500     3000   3700    10700\n",
      "Charlie        14200      4200     4000   4300    26700\n",
      "All          1229400     27400    24000  30000  1310800\n",
      "\n",
      "Sorted sales:\n",
      " Month          April  February  January  March    Total\n",
      "Salesperson                                            \n",
      "All          1229400     27400    24000  30000  1310800\n",
      "Alice         600000      6000     5000   7000   618000\n",
      "Charlie        14200      4200     4000   4300    26700\n",
      "Bob              500      3500     3000   3700    10700\n"
     ]
    }
   ],
   "source": [
    "pivot_sales.loc['All']=pivot_sales.sum(axis=0)\n",
    "print(\"\\nTotal sales per month:\\n\",pivot_sales)\n",
    "sorted_sales=pivot_sales.sort_values(by='Total',ascending=False)\n",
    "print(\"\\nSorted sales:\\n\",sorted_sales)"
   ]
  },
  {
   "cell_type": "markdown",
   "id": "dc092540-6f9e-4b9b-a2c6-ed00726bea4b",
   "metadata": {},
   "source": [
    "## Module 5: Time Series & Window Operation\n",
    "\n",
    "### Sample Code"
   ]
  },
  {
   "cell_type": "code",
   "execution_count": 26,
   "id": "172b1d35-c65c-4247-8a9e-33e45e2ae7f8",
   "metadata": {},
   "outputs": [
    {
     "name": "stdout",
     "output_type": "stream",
     "text": [
      "Daily sales with 3-day rolling average:\n",
      "             Sales  Rolling_Avg\n",
      "Date                          \n",
      "2023-01-01    500          NaN\n",
      "2023-01-02    600          NaN\n",
      "2023-01-03    700   600.000000\n",
      "2023-01-04    800   700.000000\n",
      "2023-01-05    750   750.000000\n",
      "2023-01-06    680   743.333333\n",
      "2023-01-07    720   716.666667\n",
      "2023-01-08    710   703.333333\n",
      "2023-01-09    750   726.666667\n",
      "2023-01-10    730   730.000000\n",
      "\n",
      "Daily sales with cumulative average:\n",
      "             Sales  Rolling_Avg  Cumulative_Avg\n",
      "Date                                          \n",
      "2023-01-01    500          NaN      500.000000\n",
      "2023-01-02    600          NaN      550.000000\n",
      "2023-01-03    700   600.000000      600.000000\n",
      "2023-01-04    800   700.000000      650.000000\n",
      "2023-01-05    750   750.000000      670.000000\n",
      "2023-01-06    680   743.333333      671.666667\n",
      "2023-01-07    720   716.666667      678.571429\n",
      "2023-01-08    710   703.333333      682.500000\n",
      "2023-01-09    750   726.666667      690.000000\n",
      "2023-01-10    730   730.000000      694.000000\n"
     ]
    }
   ],
   "source": [
    "# Define a dictionary containing daily sales data\n",
    "data_daily = {\n",
    "    'Date': pd.date_range(start='2023-01-01', periods=10, freq='D'),  # Generate a date range for 10 days\n",
    "    'Sales': [500, 600, 700, 800, 750, 680, 720, 710, 750, 730]      # List of sales figures for each day\n",
    "}\n",
    "\n",
    "# Create a DataFrame from the daily sales data\n",
    "df_daily = pd.DataFrame(data_daily)\n",
    "\n",
    "# Set the 'Date' column as the index of the DataFrame for easier time-based operations\n",
    "df_daily.set_index('Date', inplace=True)\n",
    "\n",
    "# Calculate a 3-day rolling average of the 'Sales' column and store it in a new column 'Rolling_Avg'\n",
    "df_daily['Rolling_Avg'] = df_daily['Sales'].rolling(window=3).mean()\n",
    "print(\"Daily sales with 3-day rolling average:\\n\", df_daily)\n",
    "\n",
    "# Calculate the cumulative average of the 'Sales' column and store it in a new column 'Cumulative_Avg'\n",
    "df_daily['Cumulative_Avg'] = df_daily['Sales'].expanding().mean()\n",
    "print(\"\\nDaily sales with cumulative average:\\n\", df_daily)\n"
   ]
  },
  {
   "cell_type": "markdown",
   "id": "c7a4488b-7eea-4f34-b515-6dfdc0452e3c",
   "metadata": {},
   "source": [
    "### Exercise-5\n",
    "- Simulate daily sales data for the first 15 days of February, adding a trend for increasing sales.\n",
    "- Calculate a 7-day rolling average for daily sales.\n",
    "- Use an expanding window to compute a cumulative average, identifying the trend over time."
   ]
  },
  {
   "cell_type": "code",
   "execution_count": null,
   "id": "44dc6b1c",
   "metadata": {},
   "outputs": [],
   "source": []
  }
 ],
 "metadata": {
  "kernelspec": {
   "display_name": "base",
   "language": "python",
   "name": "python3"
  },
  "language_info": {
   "codemirror_mode": {
    "name": "ipython",
    "version": 3
   },
   "file_extension": ".py",
   "mimetype": "text/x-python",
   "name": "python",
   "nbconvert_exporter": "python",
   "pygments_lexer": "ipython3",
   "version": "3.12.4"
  }
 },
 "nbformat": 4,
 "nbformat_minor": 5
}
