{
 "cells": [
  {
   "cell_type": "markdown",
   "id": "ce1e1bb7-d8ae-4d2d-a464-6115383a34ea",
   "metadata": {},
   "source": [
    "# Hands-on DS: NumPy Array Exercises"
   ]
  },
  {
   "cell_type": "markdown",
   "id": "ab7a3230-feaf-4cfb-9d02-8b2c0bbbc5ba",
   "metadata": {},
   "source": [
    "Hands-on Exercises for Lec. 13 of UFUG1601-ICS at HKUST-GZ\\\n",
    "Created by Guoming Tang\\\n",
    "Latest update: Oct. 29, 2024"
   ]
  },
  {
   "cell_type": "markdown",
   "id": "2784e9ba-eaee-4b1c-96d5-639f993195a1",
   "metadata": {},
   "source": [
    "## 1. Creating NumPy Arrays"
   ]
  },
  {
   "cell_type": "code",
   "execution_count": 1,
   "id": "8a161a36-c00f-48a1-8179-9b031e9f3371",
   "metadata": {},
   "outputs": [
    {
     "name": "stdout",
     "output_type": "stream",
     "text": [
      "Zeros Array:\n",
      " [[0. 0. 0.]\n",
      " [0. 0. 0.]\n",
      " [0. 0. 0.]]\n",
      "Ones Array:\n",
      " [[1. 1. 1.]\n",
      " [1. 1. 1.]\n",
      " [1. 1. 1.]]\n",
      "Eye Array:\n",
      " [[1. 0. 0.]\n",
      " [0. 1. 0.]\n",
      " [0. 0. 1.]]\n",
      "Arange Array:\n",
      " [0 1 2 3 4 5 6 7 8 9]\n",
      "Random Array:\n",
      " [[0.56420239 0.88314381 0.2669879 ]\n",
      " [0.96746441 0.55853858 0.99008786]\n",
      " [0.01338308 0.02613542 0.56104899]]\n",
      "Random Integer Array:\n",
      " [[21 46 37  7 19 64 95 37 39 13]\n",
      " [77 40 69  7 16 97 13 55 67 72]\n",
      " [34 62 34 98 65 17 61 54 23 25]\n",
      " [98 56 92 49 48  5 96 77 41 73]\n",
      " [33 51 26 49 90 81 32 66 89 24]\n",
      " [28 25 40 96  5 80 19  8 65 41]\n",
      " [54 42 80 32 10 67 98 80 58 61]\n",
      " [39 87 69 11 41 95 88 72 25 10]\n",
      " [29 36 75 21 86 76 82 18 63 55]\n",
      " [37 53 90 44  7  3 61 72 58 81]]\n"
     ]
    }
   ],
   "source": [
    "import numpy as np\n",
    "\n",
    "# Creating different types of arrays\n",
    "zeros_array = np.zeros((3, 3))\n",
    "ones_array = np.ones((3, 3))\n",
    "eye_array = np.eye(3)\n",
    "arange_array = np.arange(10)\n",
    "random_array = np.random.random((3, 3))\n",
    "random_int_array = np.random.randint(1, 100, size=(10,10))\n",
    "\n",
    "print(\"Zeros Array:\\n\", zeros_array)\n",
    "print(\"Ones Array:\\n\", ones_array)\n",
    "print(\"Eye Array:\\n\", eye_array)\n",
    "print(\"Arange Array:\\n\", arange_array)\n",
    "print(\"Random Array:\\n\", random_array)\n",
    "print(\"Random Integer Array:\\n\", random_int_array)"
   ]
  },
  {
   "cell_type": "markdown",
   "id": "665e5fc5-0bcb-47b3-b0cf-124bb2afdbca",
   "metadata": {},
   "source": [
    "**Exercise 1:**\n",
    "- Create a 2D array with shape `(4, 4)` filled with zeros.\n",
    "- Generate an array with numbers from 20 to 40. (Hint: using _arange(min, max)_)\n"
   ]
  },
  {
   "cell_type": "code",
   "execution_count": 4,
   "id": "7200d496-c25b-4ea9-8c2c-74f12b073088",
   "metadata": {},
   "outputs": [
    {
     "name": "stdout",
     "output_type": "stream",
     "text": [
      "Array 1:\n",
      " [[0. 0. 0. 0.]\n",
      " [0. 0. 0. 0.]\n",
      " [0. 0. 0. 0.]\n",
      " [0. 0. 0. 0.]]\n",
      "Array 2:\n",
      " [20 21 22 23 24 25 26 27 28 29 30 31 32 33 34 35 36 37 38 39 40]\n"
     ]
    }
   ],
   "source": [
    "arr1=np.zeros((4,4))\n",
    "arr2=np.arange(20,41)\n",
    "print(\"Array 1:\\n\", arr1)\n",
    "print(\"Array 2:\\n\", arr2)"
   ]
  },
  {
   "cell_type": "markdown",
   "id": "ab969f95-cd4f-43a6-a5ce-3054b40fe782",
   "metadata": {},
   "source": [
    "## 2. Basic NumPy Array Operations\n"
   ]
  },
  {
   "cell_type": "code",
   "execution_count": 5,
   "id": "84eece90-52ab-4dc9-a398-274d8e83a94e",
   "metadata": {},
   "outputs": [
    {
     "name": "stdout",
     "output_type": "stream",
     "text": [
      "Shape: (3, 3)\n",
      "Size: 9\n",
      "Data type: int32\n",
      "Element at (0,1): 2\n",
      "First row: [1 2 3]\n",
      "Last column: [3 6 9]\n"
     ]
    }
   ],
   "source": [
    "# Array attributes\n",
    "array = np.array([[1, 2, 3], [4, 5, 6], [7, 8, 9]])\n",
    "print(\"Shape:\", array.shape)\n",
    "print(\"Size:\", array.size)\n",
    "print(\"Data type:\", array.dtype)\n",
    "\n",
    "# Indexing and slicing\n",
    "print(\"Element at (0,1):\", array[0, 1])\n",
    "print(\"First row:\", array[0, :])\n",
    "print(\"Last column:\", array[:, -1])\n"
   ]
  },
  {
   "cell_type": "markdown",
   "id": "f98319db-6ed8-4270-b969-5771d24848da",
   "metadata": {},
   "source": [
    "**Exercise 2:**\n",
    "- Create a 3x3 array of random integers between 10 and 50.\n",
    "- Slice out the first two columns from this array.\n"
   ]
  },
  {
   "cell_type": "code",
   "execution_count": 7,
   "id": "30766432-4801-44dc-88b4-352833efb874",
   "metadata": {},
   "outputs": [
    {
     "name": "stdout",
     "output_type": "stream",
     "text": [
      "Random Array:\n",
      " [[11 31 24]\n",
      " [31 17 16]\n",
      " [30 22 19]]\n",
      "two columns:\n",
      " [[11 31]\n",
      " [31 17]\n",
      " [30 22]]\n"
     ]
    }
   ],
   "source": [
    "random_array = np.random.randint(10,51,size=(3,3))\n",
    "print(\"Random Array:\\n\", random_array)\n",
    "print(\"two columns:\\n\", random_array[:,:2])\n"
   ]
  },
  {
   "cell_type": "markdown",
   "id": "194c1e8a-a825-4caf-8ea9-9654f7272f03",
   "metadata": {},
   "source": [
    "## 3. NumPy Array Concatenation and Splitting\n"
   ]
  },
  {
   "cell_type": "code",
   "execution_count": 8,
   "id": "9919bafc-2a28-4789-976f-016decd7fab5",
   "metadata": {},
   "outputs": [
    {
     "name": "stdout",
     "output_type": "stream",
     "text": [
      "Original array: [1 2 3 4 5 6 7 8 9]\n",
      "Reshaped array:\n",
      " [[1 2 3]\n",
      " [4 5 6]\n",
      " [7 8 9]]\n",
      "Concatenated array: [1 2 3 4 5 6]\n",
      "Split array: [array([1, 2, 3]), array([4, 5, 6])]\n"
     ]
    }
   ],
   "source": [
    "# Reshaping arrays\n",
    "array = np.arange(1, 10)\n",
    "reshaped_array = array.reshape(3, 3)\n",
    "print(\"Original array:\", array)\n",
    "print(\"Reshaped array:\\n\", reshaped_array)\n",
    "\n",
    "# Concatenation and splitting\n",
    "array1 = np.array([1, 2, 3])\n",
    "array2 = np.array([4, 5, 6])\n",
    "concatenated_array = np.concatenate([array1, array2])\n",
    "print(\"Concatenated array:\", concatenated_array)\n",
    "\n",
    "split_array = np.split(concatenated_array, [3])\n",
    "print(\"Split array:\", split_array)\n"
   ]
  },
  {
   "cell_type": "markdown",
   "id": "4e08c79f-e768-4958-9050-4979474e03b6",
   "metadata": {},
   "source": [
    "**Exercise 3:**\n",
    "- Create a 1D array from 0 to 15 and reshape it into a 4x4 matrix.\n",
    "- Concatenate two arrays of size 4 and split the result into three parts.\n"
   ]
  },
  {
   "cell_type": "code",
   "execution_count": 12,
   "id": "a06d596d-0e74-4f83-a82c-f2d66842452b",
   "metadata": {},
   "outputs": [
    {
     "name": "stdout",
     "output_type": "stream",
     "text": [
      "Original Array:\n",
      " [ 0  1  2  3  4  5  6  7  8  9 10 11 12 13 14 15]\n",
      "Reshaped Array:\n",
      " [[ 0  1  2  3]\n",
      " [ 4  5  6  7]\n",
      " [ 8  9 10 11]\n",
      " [12 13 14 15]]\n",
      "Concatenated Array:\n",
      " [  1   2   3 666   4   5   6 888]\n",
      "Split Array:\n",
      " [array([1, 2, 3]), array([666,   4,   5]), array([  6, 888])]\n"
     ]
    }
   ],
   "source": [
    "array=np.arange(0,16)\n",
    "resh_arr=array.reshape(4,4)\n",
    "print(\"Original Array:\\n\", array)\n",
    "print(\"Reshaped Array:\\n\", resh_arr)\n",
    "\n",
    "array1 = np.array([1, 2, 3,666])\n",
    "array2 = np.array([4, 5, 6,888])\n",
    "conca_arr=np.concatenate([array1,array2])\n",
    "split_arr = np.array_split(conca_arr, 3)\n",
    "print(\"Concatenated Array:\\n\", conca_arr)\n",
    "print(\"Split Array:\\n\", split_arr)\n",
    "\n"
   ]
  },
  {
   "cell_type": "markdown",
   "id": "88e0a126-8e35-470c-a3b9-88946e4144bb",
   "metadata": {},
   "source": [
    "## 4. Computation on NumPy Arrays\n"
   ]
  },
  {
   "cell_type": "code",
   "execution_count": 13,
   "id": "7a91dfc0-9c09-4240-ba21-10f678c00c85",
   "metadata": {},
   "outputs": [
    {
     "name": "stdout",
     "output_type": "stream",
     "text": [
      "Sum: 15\n",
      "Mean: 3.0\n",
      "Square root: [1.         1.41421356 1.73205081 2.         2.23606798]\n",
      "Broadcasted sum:\n",
      " [[11 12 13]\n",
      " [21 22 23]\n",
      " [31 32 33]]\n"
     ]
    }
   ],
   "source": [
    "# Universal functions\n",
    "array = np.array([1, 2, 3, 4, 5])\n",
    "print(\"Sum:\", np.sum(array))\n",
    "print(\"Mean:\", np.mean(array))\n",
    "print(\"Square root:\", np.sqrt(array))\n",
    "\n",
    "# Broadcasting\n",
    "a = np.array([1, 2, 3])\n",
    "b = np.array([[10], [20], [30]])\n",
    "broadcasted_sum = a + b\n",
    "print(\"Broadcasted sum:\\n\", broadcasted_sum)\n"
   ]
  },
  {
   "cell_type": "markdown",
   "id": "efa15e24-f0c4-4f26-b66d-37996186a34f",
   "metadata": {},
   "source": [
    "**Exercise 4:**\n",
    "- Creat a 2D array and compute the product of all elements in the array.\n",
    "- Creat a 1D array and perform broadcasting to add the 1D array to each row of the above 2D array.\n"
   ]
  },
  {
   "cell_type": "code",
   "execution_count": 20,
   "id": "12ad4bf7-a5c9-40e6-9851-8beb24928b9e",
   "metadata": {},
   "outputs": [
    {
     "name": "stdout",
     "output_type": "stream",
     "text": [
      "Original array: [[6 5 7]\n",
      " [3 5 2]\n",
      " [2 6 8]]\n",
      "compute the product all the elements of the array: 604800\n",
      "Array to add: [ 8 15  4]\n",
      "privious array: [[14 20 11]\n",
      " [11 20  6]\n",
      " [10 21 12]]\n",
      "after adding the elements of the array: [[14 20 11]\n",
      " [11 20  6]\n",
      " [10 21 12]]\n"
     ]
    }
   ],
   "source": [
    "#your codes\n",
    "ori_arr=np.random.randint(1,10,size=(3,3))\n",
    "print(\"Original array:\", ori_arr)\n",
    "print(\"compute the product all the elements of the array:\", np.prod(ori_arr))\n",
    "add_arr=np.random.randint(1,20,size=(3))\n",
    "print(\"Array to add:\", add_arr)\n",
    "for arr in ori_arr:\n",
    "    arr+=add_arr\n",
    "print(\"after adding the elements of the array:\", ori_arr)"
   ]
  },
  {
   "cell_type": "markdown",
   "id": "4c04c9ca-b44c-4903-87b2-5c79e8e093a4",
   "metadata": {},
   "source": [
    "## 5. Sorting, Comparisons, and Boolean Logic\n"
   ]
  },
  {
   "cell_type": "code",
   "execution_count": 21,
   "id": "e44e4bce-e927-44b1-b206-6a0320c05203",
   "metadata": {},
   "outputs": [
    {
     "name": "stdout",
     "output_type": "stream",
     "text": [
      "Sorted array: [1 2 3 4 7]\n",
      "Elements greater than 3: [4 7]\n"
     ]
    }
   ],
   "source": [
    "# Sorting\n",
    "array = np.array([4, 2, 7, 1, 3])\n",
    "sorted_array = np.sort(array)\n",
    "print(\"Sorted array:\", sorted_array)\n",
    "\n",
    "# Comparisons and masks\n",
    "boolean_mask = array > 3\n",
    "print(\"Elements greater than 3:\", array[boolean_mask])\n"
   ]
  },
  {
   "cell_type": "markdown",
   "id": "11c9f70f-f1b5-4e5a-98a5-0c5c3376ad33",
   "metadata": {},
   "source": [
    "**Exercise 5:**\n",
    "- Sort an array of random integers between 10 and 50.\n",
    "- Find all elements in a NumPy array that are less than a given threshold.\n"
   ]
  },
  {
   "cell_type": "code",
   "execution_count": 3,
   "id": "34735f56-17d5-4153-98f7-41056572dabf",
   "metadata": {},
   "outputs": [
    {
     "name": "stdout",
     "output_type": "stream",
     "text": [
      "Sorted Array:\n",
      " [[11 20 26]\n",
      " [28 43 44]\n",
      " [23 34 36]]\n",
      "Elements less than threshold: [11 20 26 28 23]\n"
     ]
    }
   ],
   "source": [
    "#your codes\n",
    "array=np.random.randint(10,51,size=(3,3))\n",
    "array.sort()\n",
    "print(\"Sorted Array:\\n\", array)\n",
    "threshold=30\n",
    "boolean_mask=array<threshold\n",
    "print(\"Elements less than threshold:\", array[boolean_mask])"
   ]
  }
 ],
 "metadata": {
  "kernelspec": {
   "display_name": "base",
   "language": "python",
   "name": "python3"
  },
  "language_info": {
   "codemirror_mode": {
    "name": "ipython",
    "version": 3
   },
   "file_extension": ".py",
   "mimetype": "text/x-python",
   "name": "python",
   "nbconvert_exporter": "python",
   "pygments_lexer": "ipython3",
   "version": "3.12.4"
  }
 },
 "nbformat": 4,
 "nbformat_minor": 5
}
