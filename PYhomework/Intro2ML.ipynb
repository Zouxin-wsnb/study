{
 "cells": [
  {
   "cell_type": "markdown",
   "id": "229d5a38",
   "metadata": {},
   "source": [
    "## Pre-Task: Environment Setup and Data Loading"
   ]
  },
  {
   "cell_type": "code",
   "execution_count": null,
   "id": "d99c047e",
   "metadata": {},
   "outputs": [],
   "source": [
    "!pip install numpy\n",
    "!pip install pandas\n",
    "!pip install scikit-learn\n",
    "!pip install matplotlib"
   ]
  },
  {
   "cell_type": "markdown",
   "id": "6c459acf",
   "metadata": {},
   "source": [
    "## Iris Classification\n",
    "We will explore some foundational machine learning techniques focused on classification tasks. Through this notebook, you will gain hands-on experience in building, evaluating, and optimizing models that can make predictions from data."
   ]
  },
  {
   "cell_type": "code",
   "execution_count": 3,
   "id": "62670ecf",
   "metadata": {},
   "outputs": [],
   "source": [
    "# Import necessary libraries\n",
    "import numpy as np\n",
    "import pandas as pd\n",
    "from sklearn.datasets import load_breast_cancer\n",
    "from sklearn.model_selection import train_test_split\n",
    "from sklearn.tree import DecisionTreeClassifier\n",
    "from sklearn.ensemble import RandomForestClassifier, GradientBoostingClassifier\n",
    "from sklearn.metrics import accuracy_score\n",
    "\n",
    "# Load the dataset\n",
    "data = load_breast_cancer()\n",
    "X = data.data\n",
    "y = data.target"
   ]
  },
  {
   "cell_type": "markdown",
   "id": "a5a975f7",
   "metadata": {},
   "source": [
    "### Task 1. Complete the code below to split the dataset into training and test sets.\n",
    "Please follow the instructions following:\n",
    "1. Use the train_test_split function from the sklearn.model_selection module to perform the split. \n",
    "2. Allocate 80% of the data to the training set and 20% to the test set. \n",
    "3. Use a random state of 42 to ensure reproducibility."
   ]
  },
  {
   "cell_type": "code",
   "execution_count": 5,
   "id": "44541c9c",
   "metadata": {},
   "outputs": [
    {
     "name": "stdout",
     "output_type": "stream",
     "text": [
      "Data shape: (569, 30)\n",
      "Sample data point: [1.799e+01 1.038e+01 1.228e+02 1.001e+03 1.184e-01 2.776e-01 3.001e-01\n",
      " 1.471e-01 2.419e-01 7.871e-02 1.095e+00 9.053e-01 8.589e+00 1.534e+02\n",
      " 6.399e-03 4.904e-02 5.373e-02 1.587e-02 3.003e-02 6.193e-03 2.538e+01\n",
      " 1.733e+01 1.846e+02 2.019e+03 1.622e-01 6.656e-01 7.119e-01 2.654e-01\n",
      " 4.601e-01 1.189e-01]\n"
     ]
    }
   ],
   "source": [
    "\n",
    "X_train, X_test, y_train, y_test = # please split data into training and test sets\n",
    "\n",
    "# View some data points\n",
    "print(\"Data shape:\", X.shape)\n",
    "print(\"Sample data point:\", X[0])"
   ]
  },
  {
   "cell_type": "markdown",
   "id": "4d0a7d31",
   "metadata": {},
   "source": [
    "\n",
    "We will delve into three popular machine learning models:\n",
    "\n",
    "1. Decision Tree Classifier: A straightforward yet powerful model that represents decisions and decision-making in a tree-like graph of choices.\n",
    "2. Random Forest Classifier: An ensemble model that operates by constructing a multitude of decision trees at training time and outputting the class that is the mode of the classes of the individual trees. It is known for its high accuracy, robustness, and ease of use.\n",
    "3. Gradient Boosting Classifier (XGBoost): Another ensemble technique that builds models sequentially, with each new model attempting to correct errors made by the previous ones. It is particularly powerful and flexible, widely used in many winning Kaggle competition entries.\n",
    "\n",
    "The decision tree model and random forest model are created in the following as examples. "
   ]
  },
  {
   "cell_type": "code",
   "execution_count": 6,
   "id": "7e46b372",
   "metadata": {},
   "outputs": [
    {
     "name": "stdout",
     "output_type": "stream",
     "text": [
      "Decision Tree Accuracy: 0.9473684210526315\n",
      "Random Forest Accuracy: 0.9649122807017544\n"
     ]
    }
   ],
   "source": [
    "# Initialize and train a decision tree classifier\n",
    "tree_model = DecisionTreeClassifier(random_state=42)\n",
    "tree_model.fit(X_train, y_train)\n",
    "\n",
    "# Predict and evaluate the model\n",
    "tree_predictions = tree_model.predict(X_test)\n",
    "print(\"Decision Tree Accuracy:\", accuracy_score(y_test, tree_predictions))\n",
    "\n",
    "# Random Forest\n",
    "rf_model = RandomForestClassifier(n_estimators=100, random_state=100)\n",
    "rf_model.fit(X_train, y_train)\n",
    "rf_predictions = rf_model.predict(X_test)\n",
    "print(\"Random Forest Accuracy:\", accuracy_score(y_test, rf_predictions))"
   ]
  },
  {
   "cell_type": "markdown",
   "id": "481590b2",
   "metadata": {},
   "source": [
    "### Task 2: Building Gradient Boosting models\n",
    "**Please bulid a gradient boosting model with sklearn**\n",
    "1. Use the GradientBoostingClassifier and set n_estimators=100 and random_state=100.\n",
    "2. Fit the model on the X_train and y_train datasets.\n",
    "3. Predict the test set results and calculate the accuracy using the accuracy_score"
   ]
  },
  {
   "cell_type": "code",
   "execution_count": null,
   "id": "453602f6",
   "metadata": {},
   "outputs": [],
   "source": [
    "# build and train the Gradient Boosting model on X_train and y_train.\n",
    "\n",
    "# Obtain the predictions from the trained model\n",
    "\n",
    "# Give the accuracy\n"
   ]
  },
  {
   "cell_type": "markdown",
   "id": "42cac9a6",
   "metadata": {},
   "source": [
    "### Examples of Hyperparameter Tuning on Decision Tree and Random Forest"
   ]
  },
  {
   "cell_type": "code",
   "execution_count": 8,
   "id": "49fedd5b",
   "metadata": {},
   "outputs": [
    {
     "name": "stdout",
     "output_type": "stream",
     "text": [
      "Fitting 3 folds for each of 10 candidates, totalling 30 fits\n",
      "Decision Tree - Best Parameters: {'criterion': 'gini', 'max_depth': None}\n",
      "Decision Tree - Best cross-validation score: 0.93\n",
      "Tuned Decision Tree Accuracy: 0.9298245614035088\n"
     ]
    }
   ],
   "source": [
    "from sklearn.model_selection import GridSearchCV\n",
    "\n",
    "# Define parameter grid for Decision Tree\n",
    "param_grid_dt = {\n",
    "    'criterion': ['gini', 'entropy'],\n",
    "    'max_depth': [None, 10, 20, 30, 50]\n",
    "}\n",
    "\n",
    "# Create a GridSearchCV object for Decision Tree\n",
    "grid_search_dt = GridSearchCV(estimator=DecisionTreeClassifier(random_state=100), \n",
    "                              param_grid=param_grid_dt, \n",
    "                              cv=3, verbose=1, scoring='accuracy')\n",
    "\n",
    "grid_search_dt.fit(X_train, y_train)\n",
    "\n",
    "# Best parameters and best score\n",
    "print(\"Decision Tree - Best Parameters:\", grid_search_dt.best_params_)\n",
    "print(\"Decision Tree - Best cross-validation score: {:.2f}\".format(grid_search_dt.best_score_))\n",
    "\n",
    "# Evaluate on the test set\n",
    "best_dt = grid_search_dt.best_estimator_\n",
    "final_predictions_dt = best_dt.predict(X_test)\n",
    "print(\"Tuned Decision Tree Accuracy:\", accuracy_score(y_test, final_predictions_dt))\n"
   ]
  },
  {
   "cell_type": "code",
   "execution_count": 9,
   "id": "1252ba7a",
   "metadata": {},
   "outputs": [
    {
     "name": "stdout",
     "output_type": "stream",
     "text": [
      "Fitting 3 folds for each of 24 candidates, totalling 72 fits\n",
      "Random Forest - Best Parameters: {'max_depth': 10, 'max_features': 'sqrt', 'n_estimators': 50}\n",
      "Random Forest - Best cross-validation score: 0.96\n",
      "Tuned Random Forest Accuracy: 0.9649122807017544\n"
     ]
    }
   ],
   "source": [
    "# Define parameter grid for Random Forest\n",
    "param_grid_rf = {\n",
    "    'n_estimators': [10, 50, 100, 200],\n",
    "    'max_features': ['sqrt', 'log2'],\n",
    "    'max_depth': [10, 20, 30],\n",
    "}\n",
    "\n",
    "# Create a GridSearchCV object for Random Forest\n",
    "grid_search_rf = GridSearchCV(estimator=RandomForestClassifier(random_state=100), \n",
    "                              param_grid=param_grid_rf, \n",
    "                              cv=3, verbose=1, scoring='accuracy')\n",
    "\n",
    "grid_search_rf.fit(X_train, y_train)\n",
    "\n",
    "# Best parameters and best score\n",
    "print(\"Random Forest - Best Parameters:\", grid_search_rf.best_params_)\n",
    "print(\"Random Forest - Best cross-validation score: {:.2f}\".format(grid_search_rf.best_score_))\n",
    "\n",
    "# Evaluate on the test set\n",
    "best_rf = grid_search_rf.best_estimator_\n",
    "final_predictions_rf = best_rf.predict(X_test)\n",
    "print(\"Tuned Random Forest Accuracy:\", accuracy_score(y_test, final_predictions_rf))\n"
   ]
  },
  {
   "cell_type": "markdown",
   "id": "a0e78b50",
   "metadata": {},
   "source": [
    "### Task 3. Hyper-parameter tuning on gradient boosting.\n",
    "\n",
    "Define the parameter grid for gradient boosting, specifying the range of values to explore for each parameter. You are required to vary:\n",
    "1. **Number of Estimators (n_estimators)**: Explore values of 10, 50, 100, and 200 to determine the optimal number of trees in the model.\n",
    "2. **Learning Rate (learning_rate)**: Test learning rates of 0.01, 0.1, and 0.2 to control the contribution of each tree.\n",
    "3. **Maximum Depth (max_depth)**: Vary the tree depth with values of 3, 5, and 10 to find the best balance between model complexity and overfitting.\n",
    "\n",
    "Also, set up a GridSearchCV object using this parameter grid to automate the process of finding the best model parameters."
   ]
  },
  {
   "cell_type": "code",
   "execution_count": null,
   "id": "f054bf94",
   "metadata": {},
   "outputs": [],
   "source": [
    "# Define parameter grid for Gradient Boosting\n",
    "param_grid_gb = \n",
    "\n",
    "# Create a GridSearchCV object for Gradient Boosting\n",
    "grid_search_gb = \n",
    "\n",
    "grid_search_gb.fit(X_train, y_train)\n",
    "\n",
    "# Best parameters and best score\n",
    "print(\"Gradient Boosting - Best Parameters:\", grid_search_gb.best_params_)\n",
    "print(\"Gradient Boosting - Best cross-validation score: {:.2f}\".format(grid_search_gb.best_score_))\n",
    "\n",
    "# Evaluate on the test set\n",
    "best_gb = grid_search_gb.best_estimator_\n",
    "final_predictions_gb = best_gb.predict(X_test)\n",
    "print(\"Tuned Gradient Boosting Accuracy:\", accuracy_score(y_test, final_predictions_gb))"
   ]
  },
  {
   "cell_type": "markdown",
   "id": "7b38ff9d",
   "metadata": {},
   "source": [
    "## Multi-Layer Perceptron (MLP) on the Digits Dataset"
   ]
  },
  {
   "cell_type": "code",
   "execution_count": 11,
   "id": "a56ab232",
   "metadata": {},
   "outputs": [
    {
     "data": {
      "text/plain": [
       "<Figure size 640x480 with 0 Axes>"
      ]
     },
     "metadata": {},
     "output_type": "display_data"
    },
    {
     "data": {
      "image/png": "[encoded data removed]",
      "text/plain": [
       "<Figure size 480x480 with 1 Axes>"
      ]
     },
     "metadata": {},
     "output_type": "display_data"
    }
   ],
   "source": [
    "# Import necessary libraries\n",
    "import numpy as np\n",
    "import pandas as pd\n",
    "from sklearn.datasets import load_digits\n",
    "from sklearn.model_selection import train_test_split\n",
    "from sklearn.neural_network import MLPClassifier\n",
    "from sklearn.metrics import accuracy_score\n",
    "import matplotlib.pyplot as plt\n",
    "\n",
    "# Load the dataset\n",
    "digits = load_digits()\n",
    "X = digits.data\n",
    "y = digits.target\n",
    "\n",
    "# Visualize the first digit\n",
    "plt.gray() \n",
    "plt.matshow(digits.images[0]) \n",
    "plt.show()\n",
    "\n",
    "# Split data into training and test sets\n",
    "X_train, X_test, y_train, y_test = train_test_split(X, y, test_size=0.2, random_state=100)"
   ]
  },
  {
   "cell_type": "markdown",
   "id": "6d948b76",
   "metadata": {},
   "source": [
    "### Build the MLP Model"
   ]
  },
  {
   "cell_type": "code",
   "execution_count": 12,
   "id": "715fa484",
   "metadata": {},
   "outputs": [
    {
     "name": "stdout",
     "output_type": "stream",
     "text": [
      "Initial MLP Accuracy: 0.9722222222222222\n"
     ]
    }
   ],
   "source": [
    "# Initialize the MLPClassifier\n",
    "mlp_model = MLPClassifier(random_state=1, max_iter=300)\n",
    "\n",
    "# Fit the model on training data\n",
    "mlp_model.fit(X_train, y_train)\n",
    "\n",
    "# Predict and evaluate the initial model\n",
    "initial_predictions = mlp_model.predict(X_test)\n",
    "print(\"Initial MLP Accuracy:\", accuracy_score(y_test, initial_predictions))"
   ]
  },
  {
   "cell_type": "markdown",
   "id": "5d614d59",
   "metadata": {},
   "source": [
    "### Task 4. Visualization of the learning curve of MLP\n",
    "\n",
    "A learning curve is a line plot that shows the decrease of loss over training iterations. Specifically, in the line plot of learning curve:\n",
    "* Y-Axis (Loss): Represents loss of the model\n",
    "* X-Axis (Iterations): Shows the number of training cycles the model has completed.\n",
    "\n",
    "The loss curve data is stored in `mlp_model.loss_curve_`, where `mlp_model.loss_curve_[i]` represents the loss after training i iterations.\n",
    "**Please complete the code of ploting learning curve following:**"
   ]
  },
  {
   "cell_type": "code",
   "execution_count": 15,
   "id": "23abd715",
   "metadata": {},
   "outputs": [
    {
     "name": "stdout",
     "output_type": "stream",
     "text": [
      "147\n"
     ]
    }
   ],
   "source": [
    "print(len(mlp_model.loss_curve_))"
   ]
  },
  {
   "cell_type": "code",
   "execution_count": null,
   "id": "e9089405",
   "metadata": {},
   "outputs": [],
   "source": [
    "\n",
    "plt.figure(figsize=(8, 4))\n",
    "\n",
    "#Please complete to code of ploting learning curve.\n",
    "# TO Complete\n",
    "\n",
    "\n",
    "plt.title('Learning Curve of MLP')\n",
    "plt.xlabel('Iterations')\n",
    "plt.ylabel('Loss')\n",
    "plt.show()"
   ]
  }
 ],
 "metadata": {
  "kernelspec": {
   "display_name": "base",
   "language": "python",
   "name": "python3"
  },
  "language_info": {
   "codemirror_mode": {
    "name": "ipython",
    "version": 3
   },
   "file_extension": ".py",
   "mimetype": "text/x-python",
   "name": "python",
   "nbconvert_exporter": "python",
   "pygments_lexer": "ipython3",
   "version": "3.12.4"
  }
 },
 "nbformat": 4,
 "nbformat_minor": 5
}
