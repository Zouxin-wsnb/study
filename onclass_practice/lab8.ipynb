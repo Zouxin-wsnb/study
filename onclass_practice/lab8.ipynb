{
 "cells": [
  {
   "cell_type": "markdown",
   "id": "ce1e1bb7-d8ae-4d2d-a464-6115383a34ea",
   "metadata": {},
   "source": [
    "# Hands-on DS: NumPy Array Exercises"
   ]
  },
  {
   "cell_type": "markdown",
   "id": "ab7a3230-feaf-4cfb-9d02-8b2c0bbbc5ba",
   "metadata": {},
   "source": [
    "Hands-on Exercises for Lec. 13 of UFUG1601-ICS at HKUST-GZ\\\n",
    "Created by Guoming Tang\\\n",
    "Latest update: Oct. 29, 2024"
   ]
  },
  {
   "cell_type": "markdown",
   "id": "2784e9ba-eaee-4b1c-96d5-639f993195a1",
   "metadata": {},
   "source": [
    "## 1. Creating NumPy Arrays"
   ]
  },
  {
   "cell_type": "code",
   "execution_count": 2,
   "id": "8a161a36-c00f-48a1-8179-9b031e9f3371",
   "metadata": {},
   "outputs": [
    {
     "name": "stdout",
     "output_type": "stream",
     "text": [
      "Zeros Array:\n",
      " [[0. 0. 0.]\n",
      " [0. 0. 0.]\n",
      " [0. 0. 0.]]\n",
      "Ones Array:\n",
      " [[1. 1. 1.]\n",
      " [1. 1. 1.]\n",
      " [1. 1. 1.]]\n",
      "Eye Array:\n",
      " [[1. 0. 0.]\n",
      " [0. 1. 0.]\n",
      " [0. 0. 1.]]\n",
      "Arange Array:\n",
      " [0 1 2 3 4 5 6 7 8 9]\n",
      "Random Array:\n",
      " [[0.60118421 0.82113978 0.21888469]\n",
      " [0.78337191 0.40993146 0.36348588]\n",
      " [0.03400175 0.17754121 0.90647124]]\n",
      "Random Integer Array:\n",
      " [[85 70 14 59 59 83 46 14 11 22]\n",
      " [32 19 98 67 80 72 33 70 23 21]\n",
      " [84 30 80 67  3 15 98 59 53 74]\n",
      " [37 27  3 44 16 82 28 85 43 81]\n",
      " [12 90 37 69 29 81 16 46 32 81]\n",
      " [63  1 16 66 78 58 93 40 85 38]\n",
      " [75 45 56 10 88 25 85 27 68 64]\n",
      " [43 80 54 97 62 51 36 98 54 14]\n",
      " [ 3 48 90 39 75 66 74 44 10 50]\n",
      " [83 90 35 66 50 76 21 37 78 69]]\n"
     ]
    }
   ],
   "source": [
    "import numpy as np\n",
    "\n",
    "# Creating different types of arrays\n",
    "zeros_array = np.zeros((3, 3))\n",
    "ones_array = np.ones((3, 3))\n",
    "eye_array = np.eye(3)\n",
    "arange_array = np.arange(10)\n",
    "random_array = np.random.random((3, 3))\n",
    "random_int_array = np.random.randint(1, 100, size=(10,10))\n",
    "\n",
    "print(\"Zeros Array:\\n\", zeros_array)\n",
    "print(\"Ones Array:\\n\", ones_array)\n",
    "print(\"Eye Array:\\n\", eye_array)\n",
    "print(\"Arange Array:\\n\", arange_array)\n",
    "print(\"Random Array:\\n\", random_array)\n",
    "print(\"Random Integer Array:\\n\", random_int_array)"
   ]
  },
  {
   "cell_type": "markdown",
   "id": "665e5fc5-0bcb-47b3-b0cf-124bb2afdbca",
   "metadata": {},
   "source": [
    "**Exercise 1:**\n",
    "- Create a 2D array with shape `(4, 4)` filled with zeros.\n",
    "- Generate an array with numbers from 20 to 40. (Hint: using _arange(min, max)_)\n"
   ]
  },
  {
   "cell_type": "code",
   "execution_count": 1,
   "id": "7200d496-c25b-4ea9-8c2c-74f12b073088",
   "metadata": {},
   "outputs": [
    {
     "ename": "NameError",
     "evalue": "name 'np' is not defined",
     "output_type": "error",
     "traceback": [
      "\u001b[1;31m---------------------------------------------------------------------------\u001b[0m",
      "\u001b[1;31mNameError\u001b[0m                                 Traceback (most recent call last)",
      "Cell \u001b[1;32mIn[1], line 1\u001b[0m\n\u001b[1;32m----> 1\u001b[0m arr1\u001b[38;5;241m=\u001b[39mnp\u001b[38;5;241m.\u001b[39mzeros((\u001b[38;5;241m4\u001b[39m,\u001b[38;5;241m4\u001b[39m))\n\u001b[0;32m      2\u001b[0m arr2\u001b[38;5;241m=\u001b[39mnp\u001b[38;5;241m.\u001b[39marange(\u001b[38;5;241m20\u001b[39m,\u001b[38;5;241m41\u001b[39m)\n\u001b[0;32m      3\u001b[0m \u001b[38;5;28mprint\u001b[39m(\u001b[38;5;124m\"\u001b[39m\u001b[38;5;124mArray 1:\u001b[39m\u001b[38;5;130;01m\\n\u001b[39;00m\u001b[38;5;124m\"\u001b[39m, arr1)\n",
      "\u001b[1;31mNameError\u001b[0m: name 'np' is not defined"
     ]
    }
   ],
   "source": [
    "arr1=np.zeros((4,4))\n",
    "arr2=np.arange(20,41)\n",
    "print(\"Array 1:\\n\", arr1)\n",
    "print(\"Array 2:\\n\", arr2)"
   ]
  },
  {
   "cell_type": "markdown",
   "id": "ab969f95-cd4f-43a6-a5ce-3054b40fe782",
   "metadata": {},
   "source": [
    "## 2. Basic NumPy Array Operations\n"
   ]
  },
  {
   "cell_type": "code",
   "execution_count": 5,
   "id": "84eece90-52ab-4dc9-a398-274d8e83a94e",
   "metadata": {},
   "outputs": [
    {
     "name": "stdout",
     "output_type": "stream",
     "text": [
      "Shape: (3, 3)\n",
      "Size: 9\n",
      "Data type: int32\n",
      "Element at (0,1): 2\n",
      "First row: [1 2 3]\n",
      "Last column: [3 6 9]\n"
     ]
    }
   ],
   "source": [
    "# Array attributes\n",
    "array = np.array([[1, 2, 3], [4, 5, 6], [7, 8, 9]])\n",
    "print(\"Shape:\", array.shape)\n",
    "print(\"Size:\", array.size)\n",
    "print(\"Data type:\", array.dtype)\n",
    "\n",
    "# Indexing and slicing\n",
    "print(\"Element at (0,1):\", array[0, 1])\n",
    "print(\"First row:\", array[0, :])\n",
    "print(\"Last column:\", array[:, -1])\n"
   ]
  },
  {
   "cell_type": "markdown",
   "id": "f98319db-6ed8-4270-b969-5771d24848da",
   "metadata": {},
   "source": [
    "**Exercise 2:**\n",
    "- Create a 3x3 array of random integers between 10 and 50.\n",
    "- Slice out the first two columns from this array.\n"
   ]
  },
  {
   "cell_type": "code",
   "execution_count": 7,
   "id": "30766432-4801-44dc-88b4-352833efb874",
   "metadata": {},
   "outputs": [
    {
     "name": "stdout",
     "output_type": "stream",
     "text": [
      "Random Array:\n",
      " [[11 31 24]\n",
      " [31 17 16]\n",
      " [30 22 19]]\n",
      "two columns:\n",
      " [[11 31]\n",
      " [31 17]\n",
      " [30 22]]\n"
     ]
    }
   ],
   "source": [
    "random_array = np.random.randint(10,51,size=(3,3))\n",
    "print(\"Random Array:\\n\", random_array)\n",
    "print(\"two columns:\\n\", random_array[:,:2])\n"
   ]
  },
  {
   "cell_type": "markdown",
   "id": "194c1e8a-a825-4caf-8ea9-9654f7272f03",
   "metadata": {},
   "source": [
    "## 3. NumPy Array Concatenation and Splitting\n"
   ]
  },
  {
   "cell_type": "code",
   "execution_count": 8,
   "id": "9919bafc-2a28-4789-976f-016decd7fab5",
   "metadata": {},
   "outputs": [
    {
     "name": "stdout",
     "output_type": "stream",
     "text": [
      "Original array: [1 2 3 4 5 6 7 8 9]\n",
      "Reshaped array:\n",
      " [[1 2 3]\n",
      " [4 5 6]\n",
      " [7 8 9]]\n",
      "Concatenated array: [1 2 3 4 5 6]\n",
      "Split array: [array([1, 2, 3]), array([4, 5, 6])]\n"
     ]
    }
   ],
   "source": [
    "# Reshaping arrays\n",
    "array = np.arange(1, 10)\n",
    "reshaped_array = array.reshape(3, 3)\n",
    "print(\"Original array:\", array)\n",
    "print(\"Reshaped array:\\n\", reshaped_array)\n",
    "\n",
    "# Concatenation and splitting\n",
    "array1 = np.array([1, 2, 3])\n",
    "array2 = np.array([4, 5, 6])\n",
    "concatenated_array = np.concatenate([array1, array2])\n",
    "print(\"Concatenated array:\", concatenated_array)\n",
    "\n",
    "split_array = np.split(concatenated_array, [3])\n",
    "print(\"Split array:\", split_array)\n"
   ]
  },
  {
   "cell_type": "markdown",
   "id": "4e08c79f-e768-4958-9050-4979474e03b6",
   "metadata": {},
   "source": [
    "**Exercise 3:**\n",
    "- Create a 1D array from 0 to 15 and reshape it into a 4x4 matrix.\n",
    "- Concatenate two arrays of size 4 and split the result into three parts.\n"
   ]
  },
  {
   "cell_type": "code",
   "execution_count": 12,
   "id": "a06d596d-0e74-4f83-a82c-f2d66842452b",
   "metadata": {},
   "outputs": [
    {
     "name": "stdout",
     "output_type": "stream",
     "text": [
      "Original Array:\n",
      " [ 0  1  2  3  4  5  6  7  8  9 10 11 12 13 14 15]\n",
      "Reshaped Array:\n",
      " [[ 0  1  2  3]\n",
      " [ 4  5  6  7]\n",
      " [ 8  9 10 11]\n",
      " [12 13 14 15]]\n",
      "Concatenated Array:\n",
      " [  1   2   3 666   4   5   6 888]\n",
      "Split Array:\n",
      " [array([1, 2, 3]), array([666,   4,   5]), array([  6, 888])]\n"
     ]
    }
   ],
   "source": [
    "array=np.arange(0,16)\n",
    "resh_arr=array.reshape(4,4)\n",
    "print(\"Original Array:\\n\", array)\n",
    "print(\"Reshaped Array:\\n\", resh_arr)\n",
    "\n",
    "array1 = np.array([1, 2, 3,666])\n",
    "array2 = np.array([4, 5, 6,888])\n",
    "conca_arr=np.concatenate([array1,array2])\n",
    "split_arr = np.array_split(conca_arr, 3)\n",
    "print(\"Concatenated Array:\\n\", conca_arr)\n",
    "print(\"Split Array:\\n\", split_arr)\n",
    "\n"
   ]
  },
  {
   "cell_type": "markdown",
   "id": "88e0a126-8e35-470c-a3b9-88946e4144bb",
   "metadata": {},
   "source": [
    "## 4. Computation on NumPy Arrays\n"
   ]
  },
  {
   "cell_type": "code",
   "execution_count": 13,
   "id": "7a91dfc0-9c09-4240-ba21-10f678c00c85",
   "metadata": {},
   "outputs": [
    {
     "name": "stdout",
     "output_type": "stream",
     "text": [
      "Sum: 15\n",
      "Mean: 3.0\n",
      "Square root: [1.         1.41421356 1.73205081 2.         2.23606798]\n",
      "Broadcasted sum:\n",
      " [[11 12 13]\n",
      " [21 22 23]\n",
      " [31 32 33]]\n"
     ]
    }
   ],
   "source": [
    "# Universal functions\n",
    "array = np.array([1, 2, 3, 4, 5])\n",
    "print(\"Sum:\", np.sum(array))\n",
    "print(\"Mean:\", np.mean(array))\n",
    "print(\"Square root:\", np.sqrt(array))\n",
    "\n",
    "# Broadcasting\n",
    "a = np.array([1, 2, 3])\n",
    "b = np.array([[10], [20], [30]])\n",
    "broadcasted_sum = a + b\n",
    "print(\"Broadcasted sum:\\n\", broadcasted_sum)\n"
   ]
  },
  {
   "cell_type": "markdown",
   "id": "efa15e24-f0c4-4f26-b66d-37996186a34f",
   "metadata": {},
   "source": [
    "**Exercise 4:**\n",
    "- Creat a 2D array and compute the product of all elements in the array.\n",
    "- Creat a 1D array and perform broadcasting to add the 1D array to each row of the above 2D array.\n"
   ]
  },
  {
   "cell_type": "code",
   "execution_count": 20,
   "id": "12ad4bf7-a5c9-40e6-9851-8beb24928b9e",
   "metadata": {},
   "outputs": [
    {
     "name": "stdout",
     "output_type": "stream",
     "text": [
      "Original array: [[6 5 7]\n",
      " [3 5 2]\n",
      " [2 6 8]]\n",
      "compute the product all the elements of the array: 604800\n",
      "Array to add: [ 8 15  4]\n",
      "privious array: [[14 20 11]\n",
      " [11 20  6]\n",
      " [10 21 12]]\n",
      "after adding the elements of the array: [[14 20 11]\n",
      " [11 20  6]\n",
      " [10 21 12]]\n"
     ]
    }
   ],
   "source": [
    "#your codes\n",
    "ori_arr=np.random.randint(1,10,size=(3,3))\n",
    "print(\"Original array:\", ori_arr)\n",
    "print(\"compute the product all the elements of the array:\", np.prod(ori_arr))\n",
    "add_arr=np.random.randint(1,20,size=(3))\n",
    "print(\"Array to add:\", add_arr)\n",
    "for arr in ori_arr:\n",
    "    arr+=add_arr\n",
    "print(\"after adding the elements of the array:\", ori_arr)"
   ]
  },
  {
   "cell_type": "markdown",
   "id": "4c04c9ca-b44c-4903-87b2-5c79e8e093a4",
   "metadata": {},
   "source": [
    "## 5. Sorting, Comparisons, and Boolean Logic\n"
   ]
  },
  {
   "cell_type": "code",
   "execution_count": 21,
   "id": "e44e4bce-e927-44b1-b206-6a0320c05203",
   "metadata": {},
   "outputs": [
    {
     "name": "stdout",
     "output_type": "stream",
     "text": [
      "Sorted array: [1 2 3 4 7]\n",
      "Elements greater than 3: [4 7]\n"
     ]
    }
   ],
   "source": [
    "# Sorting\n",
    "array = np.array([4, 2, 7, 1, 3])\n",
    "sorted_array = np.sort(array)\n",
    "print(\"Sorted array:\", sorted_array)\n",
    "\n",
    "# Comparisons and masks\n",
    "boolean_mask = array > 3\n",
    "print(\"Elements greater than 3:\", array[boolean_mask])\n"
   ]
  },
  {
   "cell_type": "markdown",
   "id": "11c9f70f-f1b5-4e5a-98a5-0c5c3376ad33",
   "metadata": {},
   "source": [
    "**Exercise 5:**\n",
    "- Sort an array of random integers between 10 and 50.\n",
    "- Find all elements in a NumPy array that are less than a given threshold.\n"
   ]
  },
  {
   "cell_type": "code",
   "execution_count": 3,
   "id": "34735f56-17d5-4153-98f7-41056572dabf",
   "metadata": {},
   "outputs": [
    {
     "name": "stdout",
     "output_type": "stream",
     "text": [
      "Sorted Array:\n",
      " [[11 20 26]\n",
      " [28 43 44]\n",
      " [23 34 36]]\n",
      "Elements less than threshold: [11 20 26 28 23]\n"
     ]
    }
   ],
   "source": [
    "#your codes\n",
    "array=np.random.randint(10,51,size=(3,3))\n",
    "array.sort()\n",
    "print(\"Sorted Array:\\n\", array)\n",
    "threshold=30\n",
    "boolean_mask=array<threshold\n",
    "print(\"Elements less than threshold:\", array[boolean_mask])"
   ]
  },
  {
   "cell_type": "code",
   "execution_count": 7,
   "id": "000c6379",
   "metadata": {},
   "outputs": [
    {
     "name": "stdout",
     "output_type": "stream",
     "text": [
      "Sum of two arrays:\n",
      " [[2 4 6]\n",
      " [5 7 9]]\n",
      "Product of two arrays:\n",
      " [[ 1  4  9]\n",
      " [ 4 10 18]]\n",
      "Difference of two arrays:\n",
      " [[0 0 0]\n",
      " [3 3 3]]\n",
      "Mean of 2D array: 3.5\n",
      "Median of 2D array: 3.5\n",
      "Standard Deviation of 2D array: 1.707825127659933\n",
      "Matrix 1:\n",
      " [[1 2 3]\n",
      " [4 5 6]]\n",
      "Matrix 2:\n",
      " [[2 2 2]\n",
      " [5 5 5]\n",
      " [8 8 8]]\n",
      "Matrix Multiplication:\n",
      " [[36 36 36]\n",
      " [81 81 81]]\n",
      "Determinant of 2D array: 0.0\n"
     ]
    }
   ],
   "source": [
    "arr_1d=np.array([1,2,3])\n",
    "arr_2d=np.array([[1,2,3],[4,5,6]])\n",
    "sum_arr=arr_1d+arr_2d\n",
    "print(\"Sum of two arrays:\\n\", sum_arr)\n",
    "mult_arr=arr_1d*arr_2d\n",
    "print(\"Product of two arrays:\\n\", mult_arr)\n",
    "subt_arr=arr_2d-arr_1d\n",
    "print(\"Difference of two arrays:\\n\", subt_arr)\n",
    "\n",
    "mean_2d=np.mean(arr_2d)\n",
    "median_2d=np.median(arr_2d)\n",
    "sta_dev_2d=np.std(arr_2d)\n",
    "print(\"Mean of 2D array:\", mean_2d)\n",
    "print(\"Median of 2D array:\", median_2d)\n",
    "print(\"Standard Deviation of 2D array:\", sta_dev_2d)\n",
    "\n",
    "arr_2d_1=np.array([[2,2,2],[5,5,5],[8,8,8]])\n",
    "matrix_arr=np.dot(arr_2d,arr_2d_1)\n",
    "print(\"Matrix 1:\\n\", arr_2d)\n",
    "print(\"Matrix 2:\\n\", arr_2d_1)\n",
    "print(\"Matrix Multiplication:\\n\", matrix_arr)\n",
    "det_2d=np.linalg.det(arr_2d_1)\n",
    "print(\"Determinant of 2D array:\", det_2d)\n"
   ]
  },
  {
   "cell_type": "code",
   "execution_count": 14,
   "id": "e2c3984f",
   "metadata": {},
   "outputs": [
    {
     "name": "stdout",
     "output_type": "stream",
     "text": [
      "Original Array:\n",
      " [[3 9 6]\n",
      " [3 5 7]\n",
      " [1 3 6]]\n",
      "Sliced Array:\n",
      " [[3 5]\n",
      " [1 3]]\n",
      "Index Element: 5\n",
      "1D to 2D:\n",
      " [[1]\n",
      " [2]\n",
      " [3]]\n",
      "2D to 1D:\n",
      " [3 9 6 3 5 7 1 3 6]\n",
      "Broadcasted Array:\n",
      " [[2 3 4]\n",
      " [3 4 5]\n",
      " [4 5 6]]\n",
      "Elements greater than 3:\n",
      " [9 6 5 7 6]\n",
      "Comparison Array:\n",
      " [9 3]\n"
     ]
    }
   ],
   "source": [
    "new_arr=np.random.randint(1,10,size=(3,3))\n",
    "slice_arr=new_arr[1:3,0:2]\n",
    "index_get=new_arr[1,1]\n",
    "print(\"Original Array:\\n\", new_arr)\n",
    "print(\"Sliced Array:\\n\", slice_arr)\n",
    "print(\"Index Element:\", index_get)\n",
    "\n",
    "arr_1dto2d=arr_1d.reshape(3,1)\n",
    "arr_2dto1d=new_arr.flatten()\n",
    "print(\"1D to 2D:\\n\", arr_1dto2d)\n",
    "print(\"2D to 1D:\\n\", arr_2dto1d)\n",
    "\n",
    "arr_1d_1=np.array([1,2,3])\n",
    "arr_broadcast=arr_1d_1+arr_1dto2d\n",
    "print(\"Broadcasted Array:\\n\", arr_broadcast)\n",
    "\n",
    "compare_arr=new_arr[new_arr>3]\n",
    "print(\"Elements greater than 3:\\n\", compare_arr)\n",
    "new_arr_1=np.random.randint(1,10,size=(3,3))\n",
    "compare_arr_1=new_arr>new_arr_1\n",
    "print(\"Comparison Array:\\n\", new_arr[compare_arr_1])\n"
   ]
  },
  {
   "cell_type": "code",
   "execution_count": 8,
   "id": "03e01494",
   "metadata": {},
   "outputs": [
    {
     "name": "stdout",
     "output_type": "stream",
     "text": [
      "random Array:\n",
      " [[[3 7 3]\n",
      "  [9 2 9]\n",
      "  [9 1 1]]\n",
      "\n",
      " [[2 7 3]\n",
      "  [5 7 5]\n",
      "  [6 3 3]]\n",
      "\n",
      " [[1 7 7]\n",
      "  [6 6 7]\n",
      "  [6 9 4]]]\n",
      "addition:\n",
      " [[[ 4  8  4]\n",
      "  [11  4 11]\n",
      "  [12  4  4]]\n",
      "\n",
      " [[ 6 11  7]\n",
      "  [10 12 10]\n",
      "  [12  9  9]]\n",
      "\n",
      " [[ 8 14 14]\n",
      "  [14 14 15]\n",
      "  [15 18 13]]]\n",
      "subtraction:\n",
      " [[[ 2  6  2]\n",
      "  [ 7  0  7]\n",
      "  [ 6 -2 -2]]\n",
      "\n",
      " [[-2  3 -1]\n",
      "  [ 0  2  0]\n",
      "  [ 0 -3 -3]]\n",
      "\n",
      " [[-6  0  0]\n",
      "  [-2 -2 -1]\n",
      "  [-3  0 -5]]]\n",
      "multiplication:\n",
      " [[[ 3  7  3]\n",
      "  [18  4 18]\n",
      "  [27  3  3]]\n",
      "\n",
      " [[ 8 28 12]\n",
      "  [25 35 25]\n",
      "  [36 18 18]]\n",
      "\n",
      " [[ 7 49 49]\n",
      "  [48 48 56]\n",
      "  [54 81 36]]]\n",
      "Dot Product:\n",
      " [[43 43]\n",
      " [55 55]]\n",
      "Sliced arr:\n",
      " [[2 7]\n",
      " [5 7]]\n",
      "Replaced Array:\n",
      " [[[9 9 3]\n",
      "  [9 8 9]\n",
      "  [9 1 1]]\n",
      "\n",
      " [[8 9 3]\n",
      "  [7 3 5]\n",
      "  [6 3 3]]\n",
      "\n",
      " [[1 7 7]\n",
      "  [6 6 7]\n",
      "  [6 9 4]]]\n",
      "Sum of columns:\n",
      " [[18 25 13]\n",
      " [22 17 21]\n",
      " [21 13  8]]\n",
      "Mean of rows:\n",
      " [[9.         6.         4.33333333]\n",
      " [7.         5.         3.66666667]\n",
      " [4.33333333 7.33333333 6.        ]]\n",
      "Standard Deviation of width:\n",
      " [[2.82842712 0.47140452 3.77123617]\n",
      " [2.62466929 1.63299316 1.41421356]\n",
      " [2.82842712 0.47140452 2.05480467]]\n"
     ]
    }
   ],
   "source": [
    "tenser_rad=np.random.randint(1,10,size=(3,3,3))\n",
    "print(\"random Array:\\n\", tenser_rad)\n",
    "tenser_spec=np.array([[[1,1,1],[2,2,2],[3,3,3]],[[4,4,4],[5,5,5],[6,6,6]],[[7,7,7],[8,8,8],[9,9,9]]])\n",
    "tenser_add=tenser_rad+tenser_spec\n",
    "tenser_sub=tenser_rad-tenser_spec\n",
    "tenser_mul=tenser_rad*tenser_spec\n",
    "print(\"addition:\\n\", tenser_add)\n",
    "print(\"subtraction:\\n\", tenser_sub)\n",
    "print(\"multiplication:\\n\", tenser_mul)\n",
    "\n",
    "dot_product=np.dot(tenser_rad[1,:2,:2],tenser_spec[1,:2,:2])\n",
    "print(\"Dot Product:\\n\", dot_product)\n",
    "slice_arr=tenser_rad[1,:2,:2]\n",
    "print(\"Sliced arr:\\n\", slice_arr)\n",
    "\n",
    "replace_arr=np.random.randint(1,10,size=(2,2,2))\n",
    "tenser_rad[:2,:2,:2]=replace_arr\n",
    "print(\"Replaced Array:\\n\", tenser_rad)\n",
    "\n",
    "sum_col=np.sum(tenser_rad,axis=0)\n",
    "mean_row=np.mean(tenser_rad,axis=1)\n",
    "std_wid=np.std(tenser_rad,axis=2)\n",
    "print(\"Sum of columns:\\n\", sum_col)\n",
    "print(\"Mean of rows:\\n\", mean_row)\n",
    "print(\"Standard Deviation of width:\\n\", std_wid)"
   ]
  },
  {
   "cell_type": "code",
   "execution_count": 25,
   "id": "2762c584",
   "metadata": {},
   "outputs": [
    {
     "name": "stdout",
     "output_type": "stream",
     "text": [
      "    Province/State  Country/Region        Lat        Long  1/22/20  1/23/20  \\\n",
      "0                0               0  33.939110   67.709953      0.0      0.0   \n",
      "1                0               1  41.153300   20.168300      0.0      0.0   \n",
      "2                0               2  28.033900    1.659600      0.0      0.0   \n",
      "3                0               3  42.506300    1.521800      0.0      0.0   \n",
      "4                0               4 -11.202700   17.873900      0.0      0.0   \n",
      "..             ...             ...        ...         ...      ...      ...   \n",
      "284              0             196  31.952200   35.233200      0.0      0.0   \n",
      "285              0             197  39.904200  116.407400      0.0      0.0   \n",
      "286              0             198  15.552727   48.516388      0.0      0.0   \n",
      "287              0             199 -13.133897   27.849332      0.0      0.0   \n",
      "288              0             200 -19.015438   29.154857      0.0      0.0   \n",
      "\n",
      "     1/24/20  1/25/20  1/26/20  1/27/20  ...   2/28/23    3/1/23    3/2/23  \\\n",
      "0        0.0      0.0      0.0      0.0  ...  0.002024  0.002022  0.002021   \n",
      "1        0.0      0.0      0.0      0.0  ...  0.003233  0.003230  0.003228   \n",
      "2        0.0      0.0      0.0      0.0  ...  0.002624  0.002622  0.002621   \n",
      "3        0.0      0.0      0.0      0.0  ...  0.000463  0.000462  0.000462   \n",
      "4        0.0      0.0      0.0      0.0  ...  0.001018  0.001017  0.001016   \n",
      "..       ...      ...      ...      ...  ...       ...       ...       ...   \n",
      "284      0.0      0.0      0.0      0.0  ...  0.006798  0.006792  0.006789   \n",
      "285      0.0      0.0      0.0      0.0  ...  0.000005  0.000005  0.000005   \n",
      "286      0.0      0.0      0.0      0.0  ...  0.000115  0.000115  0.000115   \n",
      "287      0.0      0.0      0.0      0.0  ...  0.003316  0.003313  0.003312   \n",
      "288      0.0      0.0      0.0      0.0  ...  0.002551  0.002551  0.002550   \n",
      "\n",
      "       3/3/23    3/4/23    3/5/23    3/6/23    3/7/23    3/8/23    3/9/23  \n",
      "0    0.002020  0.002020  0.002020  0.002020  0.002020  0.002019  0.002018  \n",
      "1    0.003227  0.003226  0.003227  0.003226  0.003225  0.003223  0.003222  \n",
      "2    0.002619  0.002619  0.002619  0.002619  0.002618  0.002617  0.002616  \n",
      "3    0.000462  0.000462  0.000462  0.000462  0.000462  0.000462  0.000461  \n",
      "4    0.001016  0.001016  0.001016  0.001016  0.001015  0.001015  0.001014  \n",
      "..        ...       ...       ...       ...       ...       ...       ...  \n",
      "284  0.006785  0.006785  0.006785  0.006784  0.006782  0.006778  0.006775  \n",
      "285  0.000005  0.000005  0.000005  0.000005  0.000005  0.000005  0.000005  \n",
      "286  0.000115  0.000115  0.000115  0.000115  0.000115  0.000115  0.000115  \n",
      "287  0.003310  0.003310  0.003311  0.003310  0.003309  0.003307  0.003306  \n",
      "288  0.002548  0.002548  0.002548  0.002548  0.002547  0.002547  0.002546  \n",
      "\n",
      "[289 rows x 1147 columns]\n"
     ]
    }
   ],
   "source": [
    "import pandas as pd\n",
    "from sklearn.preprocessing import LabelEncoder\n",
    "from sklearn.preprocessing import MinMaxScaler\n",
    "\n",
    "url = 'https://raw.githubusercontent.com/CSSEGISandData/COVID-19/master/csse_covid_19_data/csse_covid_19_time_series/time_series_covid19_confirmed_global.csv'\n",
    "df = pd.read_csv(url)\n",
    "df.fillna(0, inplace=True)\n",
    "\n",
    "labelencoder = LabelEncoder()\n",
    "df['Country/Region'] = labelencoder.fit_transform(df['Country/Region'])\n",
    "num_cols = df.columns[4:]\n",
    "scaler = MinMaxScaler()\n",
    "df[num_cols] = scaler.fit_transform(df[num_cols])\n",
    "\n",
    "df.drop_duplicates(inplace=True)\n",
    "df.to_csv('covid19_new.csv', index=False)\n",
    "print(df)"
   ]
  },
  {
   "cell_type": "code",
   "execution_count": 21,
   "id": "243da309",
   "metadata": {},
   "outputs": [
    {
     "name": "stdout",
     "output_type": "stream",
     "text": [
      "pivot table:\n",
      " type                                                Movie  TV Show\n",
      "country                                                           \n",
      ", France, Algeria                                       1        0\n",
      ", South Korea                                           0        1\n",
      "Argentina                                              38       18\n",
      "Argentina, Brazil, France, Poland, Germany, Den...      1        0\n",
      "Argentina, Chile                                        2        0\n",
      "...                                                   ...      ...\n",
      "Venezuela                                               1        0\n",
      "Venezuela, Colombia                                     1        0\n",
      "Vietnam                                                 7        0\n",
      "West Germany                                            1        0\n",
      "Zimbabwe                                                1        0\n",
      "\n",
      "[748 rows x 2 columns]\n",
      "Filtered and Sorted Data:\n",
      "      show_id     type                                             title  \\\n",
      "6400   s6401    Movie                                   Caida del Cielo   \n",
      "6272   s6273    Movie                                  Before the Flood   \n",
      "6277   s6278    Movie                                     Beiimaan Love   \n",
      "6279   s6280  TV Show                       Being Mary Jane: The Series   \n",
      "6280   s6281    Movie                                   Below Her Mouth   \n",
      "...      ...      ...                                               ...   \n",
      "1094   s1095  TV Show                                 The Wedding Coach   \n",
      "660     s661  TV Show                                   Black Lightning   \n",
      "1095   s1096  TV Show  This Is a Robbery: The World's Biggest Art Heist   \n",
      "1088   s1089    Movie                                     Thunder Force   \n",
      "1298   s1299  TV Show                                          Sisyphus   \n",
      "\n",
      "                   director  \\\n",
      "6400  Néstor Sánchez Sotelo   \n",
      "6272         Fisher Stevens   \n",
      "6277       Rajeev Chaudhari   \n",
      "6279                    NaN   \n",
      "6280           April Mullen   \n",
      "...                     ...   \n",
      "1094                    NaN   \n",
      "660                     NaN   \n",
      "1095                    NaN   \n",
      "1088            Ben Falcone   \n",
      "1298                    NaN   \n",
      "\n",
      "                                                   cast        country  \\\n",
      "6400  Muriel Santa Ana, Peto Menahem, Héctor Díaz, S...      Argentina   \n",
      "6272                                  Leonardo DiCaprio  United States   \n",
      "6277  Sunny Leone, Rajneesh Duggal, Rajeev Verma, Da...          India   \n",
      "6279  Gabrielle Union, Lisa Vidal, Margaret Avery, O...  United States   \n",
      "6280  Erika Linder, Natalie Krill, Sebastian Pigott,...         Canada   \n",
      "...                                                 ...            ...   \n",
      "1094                                                NaN            NaN   \n",
      "660   Cress Williams, James Remar, Marvin 'Krondon' ...  United States   \n",
      "1095                                                NaN            NaN   \n",
      "1088  Melissa McCarthy, Octavia Spencer, Jason Batem...  United States   \n",
      "1298  Cho Seung-woo, Park Shin-hye, Sung Dong-il, Ta...    South Korea   \n",
      "\n",
      "             date_added  release_year rating   duration  \\\n",
      "6400   January 20, 2017          2016  TV-MA     78 min   \n",
      "6272   February 1, 2018          2016     PG     97 min   \n",
      "6277   November 1, 2017          2016  TV-MA    115 min   \n",
      "6279       July 1, 2017          2016  TV-14  4 Seasons   \n",
      "6280     August 1, 2017          2016  TV-MA     91 min   \n",
      "...                 ...           ...    ...        ...   \n",
      "1094      April 7, 2021          2021  TV-MA   1 Season   \n",
      "660       June 19, 2021          2021  TV-14  4 Seasons   \n",
      "1095      April 7, 2021          2021  TV-MA   1 Season   \n",
      "1088      April 9, 2021          2021  PG-13    107 min   \n",
      "1298  February 18, 2021          2021  TV-14   1 Season   \n",
      "\n",
      "                                              listed_in  \\\n",
      "6400    Comedies, International Movies, Romantic Movies   \n",
      "6272                                      Documentaries   \n",
      "6277      Dramas, International Movies, Romantic Movies   \n",
      "6279                       Romantic TV Shows, TV Dramas   \n",
      "6280   Dramas, Independent Movies, International Movies   \n",
      "...                                                 ...   \n",
      "1094                      Reality TV, Romantic TV Shows   \n",
      "660   TV Action & Adventure, TV Dramas, TV Sci-Fi & ...   \n",
      "1095           Crime TV Shows, Docuseries, TV Mysteries   \n",
      "1088                       Action & Adventure, Comedies   \n",
      "1298  International TV Shows, TV Action & Adventure,...   \n",
      "\n",
      "                                            description  \n",
      "6400  When Julia literally falls into Alejandro's ba...  \n",
      "6272  Leonardo DiCaprio crisscrosses the globe to in...  \n",
      "6277  After having her heart broken by a man who sed...  \n",
      "6279  Ambitious single TV journalist Mary Jane attem...  \n",
      "6280  An engaged fashion editor begins a torrid affa...  \n",
      "...                                                 ...  \n",
      "1094  Former bride and forever comedian Jamie Lee sh...  \n",
      "660   School principal and retired superhero Jeffers...  \n",
      "1095  In 1990, two men dressed as cops con their way...  \n",
      "1088  Two childhood best friends reunite as an unlik...  \n",
      "1298  An unfathomable incident introduces a genius e...  \n",
      "\n",
      "[5656 rows x 12 columns]\n"
     ]
    }
   ],
   "source": [
    "df_1=pd.read_csv('netflix_titles.csv')\n",
    "type_group=df_1.groupby('type').agg({'title':'count'}).reset_index()\n",
    "\n",
    "pivot_table=df_1.pivot_table(index='country',columns='type',values='title',aggfunc='count',fill_value=0)\n",
    "print(\"pivot table:\\n\", pivot_table)\n",
    "\n",
    "filter_data=df_1[df_1['release_year']>2015]\n",
    "filtered_sorted_df = filter_data.sort_values(by='release_year')\n",
    "print(\"Filtered and Sorted Data:\\n\", filtered_sorted_df)"
   ]
  },
  {
   "cell_type": "code",
   "execution_count": 22,
   "id": "542441f6",
   "metadata": {},
   "outputs": [
    {
     "name": "stdout",
     "output_type": "stream",
     "text": [
      "Merged Data:\n",
      "      director    movie time country\n",
      "0  Director A  Movie A   2h     USA\n",
      "1  Director B  Movie B   3h      UK\n",
      "2  Director C  Movie C   1h  Canada\n"
     ]
    }
   ],
   "source": [
    "df_info=pd.DataFrame({\n",
    "    'director': ['Director A', 'Director B', 'Director C'],\n",
    "    'country': ['USA', 'UK', 'Canada']\n",
    "})\n",
    "df_base=pd.DataFrame({\n",
    "    'director': ['Director A', 'Director B', 'Director C'],\n",
    "    'movie': ['Movie A', 'Movie B', 'Movie C'],\n",
    "    'time': ['2h', '3h', '1h']\n",
    "})\n",
    "df_merge=pd.merge(df_base,df_info,on='director')\n",
    "print(\"Merged Data:\\n\", df_merge)"
   ]
  }
 ],
 "metadata": {
  "kernelspec": {
   "display_name": "base",
   "language": "python",
   "name": "python3"
  },
  "language_info": {
   "codemirror_mode": {
    "name": "ipython",
    "version": 3
   },
   "file_extension": ".py",
   "mimetype": "text/x-python",
   "name": "python",
   "nbconvert_exporter": "python",
   "pygments_lexer": "ipython3",
   "version": "3.12.4"
  }
 },
 "nbformat": 4,
 "nbformat_minor": 5
}
